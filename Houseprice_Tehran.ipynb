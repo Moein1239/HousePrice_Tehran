{
 "cells": [
  {
   "cell_type": "code",
   "execution_count": 3,
   "id": "6737029f",
   "metadata": {},
   "outputs": [],
   "source": [
    "import pandas as pd\n",
    "import numpy as np\n",
    "import matplotlib.pyplot as plt\n",
    "import seaborn as sns"
   ]
  },
  {
   "cell_type": "code",
   "execution_count": 4,
   "id": "4169bbf2",
   "metadata": {},
   "outputs": [],
   "source": [
    "df = pd.read_csv('housePrice.csv', encoding='ISO-8859-1')\n"
   ]
  },
  {
   "cell_type": "code",
   "execution_count": 5,
   "id": "fe101d7e",
   "metadata": {},
   "outputs": [
    {
     "data": {
      "text/html": [
       "<div>\n",
       "<style scoped>\n",
       "    .dataframe tbody tr th:only-of-type {\n",
       "        vertical-align: middle;\n",
       "    }\n",
       "\n",
       "    .dataframe tbody tr th {\n",
       "        vertical-align: top;\n",
       "    }\n",
       "\n",
       "    .dataframe thead th {\n",
       "        text-align: right;\n",
       "    }\n",
       "</style>\n",
       "<table border=\"1\" class=\"dataframe\">\n",
       "  <thead>\n",
       "    <tr style=\"text-align: right;\">\n",
       "      <th></th>\n",
       "      <th>Area</th>\n",
       "      <th>Room</th>\n",
       "      <th>Parking</th>\n",
       "      <th>Warehouse</th>\n",
       "      <th>Elevator</th>\n",
       "      <th>Address</th>\n",
       "      <th>Price</th>\n",
       "      <th>Price(USD)</th>\n",
       "    </tr>\n",
       "  </thead>\n",
       "  <tbody>\n",
       "    <tr>\n",
       "      <th>0</th>\n",
       "      <td>63</td>\n",
       "      <td>1</td>\n",
       "      <td>True</td>\n",
       "      <td>True</td>\n",
       "      <td>True</td>\n",
       "      <td>Shahran</td>\n",
       "      <td>1.850000e+09</td>\n",
       "      <td>61666.67</td>\n",
       "    </tr>\n",
       "    <tr>\n",
       "      <th>1</th>\n",
       "      <td>60</td>\n",
       "      <td>1</td>\n",
       "      <td>True</td>\n",
       "      <td>True</td>\n",
       "      <td>True</td>\n",
       "      <td>Shahran</td>\n",
       "      <td>1.850000e+09</td>\n",
       "      <td>61666.67</td>\n",
       "    </tr>\n",
       "    <tr>\n",
       "      <th>2</th>\n",
       "      <td>79</td>\n",
       "      <td>2</td>\n",
       "      <td>True</td>\n",
       "      <td>True</td>\n",
       "      <td>True</td>\n",
       "      <td>Pardis</td>\n",
       "      <td>5.500000e+08</td>\n",
       "      <td>18333.33</td>\n",
       "    </tr>\n",
       "    <tr>\n",
       "      <th>3</th>\n",
       "      <td>95</td>\n",
       "      <td>2</td>\n",
       "      <td>True</td>\n",
       "      <td>True</td>\n",
       "      <td>True</td>\n",
       "      <td>Shahrake Qods</td>\n",
       "      <td>9.025000e+08</td>\n",
       "      <td>30083.33</td>\n",
       "    </tr>\n",
       "    <tr>\n",
       "      <th>4</th>\n",
       "      <td>123</td>\n",
       "      <td>2</td>\n",
       "      <td>True</td>\n",
       "      <td>True</td>\n",
       "      <td>True</td>\n",
       "      <td>Shahrake Gharb</td>\n",
       "      <td>7.000000e+09</td>\n",
       "      <td>233333.33</td>\n",
       "    </tr>\n",
       "  </tbody>\n",
       "</table>\n",
       "</div>"
      ],
      "text/plain": [
       "  Area  Room  Parking  Warehouse  Elevator         Address         Price  \\\n",
       "0   63     1     True       True      True         Shahran  1.850000e+09   \n",
       "1   60     1     True       True      True         Shahran  1.850000e+09   \n",
       "2   79     2     True       True      True          Pardis  5.500000e+08   \n",
       "3   95     2     True       True      True   Shahrake Qods  9.025000e+08   \n",
       "4  123     2     True       True      True  Shahrake Gharb  7.000000e+09   \n",
       "\n",
       "   Price(USD)  \n",
       "0    61666.67  \n",
       "1    61666.67  \n",
       "2    18333.33  \n",
       "3    30083.33  \n",
       "4   233333.33  "
      ]
     },
     "execution_count": 5,
     "metadata": {},
     "output_type": "execute_result"
    }
   ],
   "source": [
    "df.head(5)"
   ]
  }
 ],
 "metadata": {
  "kernelspec": {
   "display_name": "base",
   "language": "python",
   "name": "python3"
  },
  "language_info": {
   "codemirror_mode": {
    "name": "ipython",
    "version": 3
   },
   "file_extension": ".py",
   "mimetype": "text/x-python",
   "name": "python",
   "nbconvert_exporter": "python",
   "pygments_lexer": "ipython3",
   "version": "3.12.7"
  }
 },
 "nbformat": 4,
 "nbformat_minor": 5
}
