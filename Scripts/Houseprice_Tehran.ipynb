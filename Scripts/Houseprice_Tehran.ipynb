{
 "cells": [
  {
   "cell_type": "code",
   "execution_count": 421,
   "id": "163532af",
   "metadata": {},
   "outputs": [],
   "source": [
    "import pandas as pd\n",
    "import numpy as np\n",
    "import matplotlib.pyplot as plt\n",
    "import seaborn as sns"
   ]
  },
  {
   "cell_type": "markdown",
   "id": "6d42d7d5",
   "metadata": {},
   "source": [
    "Data Understanding"
   ]
  },
  {
   "cell_type": "code",
   "execution_count": 422,
   "id": "4169bbf2",
   "metadata": {},
   "outputs": [],
   "source": [
    "df = pd.read_csv('housePrice.csv', encoding='ISO-8859-1')\n"
   ]
  },
  {
   "cell_type": "code",
   "execution_count": 423,
   "id": "fe101d7e",
   "metadata": {},
   "outputs": [
    {
     "data": {
      "text/html": [
       "<div>\n",
       "<style scoped>\n",
       "    .dataframe tbody tr th:only-of-type {\n",
       "        vertical-align: middle;\n",
       "    }\n",
       "\n",
       "    .dataframe tbody tr th {\n",
       "        vertical-align: top;\n",
       "    }\n",
       "\n",
       "    .dataframe thead th {\n",
       "        text-align: right;\n",
       "    }\n",
       "</style>\n",
       "<table border=\"1\" class=\"dataframe\">\n",
       "  <thead>\n",
       "    <tr style=\"text-align: right;\">\n",
       "      <th></th>\n",
       "      <th>Area</th>\n",
       "      <th>Room</th>\n",
       "      <th>Parking</th>\n",
       "      <th>Warehouse</th>\n",
       "      <th>Elevator</th>\n",
       "      <th>Address</th>\n",
       "      <th>Price</th>\n",
       "      <th>Price(USD)</th>\n",
       "    </tr>\n",
       "  </thead>\n",
       "  <tbody>\n",
       "    <tr>\n",
       "      <th>0</th>\n",
       "      <td>63</td>\n",
       "      <td>1</td>\n",
       "      <td>True</td>\n",
       "      <td>True</td>\n",
       "      <td>True</td>\n",
       "      <td>Shahran</td>\n",
       "      <td>1.850000e+09</td>\n",
       "      <td>61666.67</td>\n",
       "    </tr>\n",
       "    <tr>\n",
       "      <th>1</th>\n",
       "      <td>60</td>\n",
       "      <td>1</td>\n",
       "      <td>True</td>\n",
       "      <td>True</td>\n",
       "      <td>True</td>\n",
       "      <td>Shahran</td>\n",
       "      <td>1.850000e+09</td>\n",
       "      <td>61666.67</td>\n",
       "    </tr>\n",
       "    <tr>\n",
       "      <th>2</th>\n",
       "      <td>79</td>\n",
       "      <td>2</td>\n",
       "      <td>True</td>\n",
       "      <td>True</td>\n",
       "      <td>True</td>\n",
       "      <td>Pardis</td>\n",
       "      <td>5.500000e+08</td>\n",
       "      <td>18333.33</td>\n",
       "    </tr>\n",
       "    <tr>\n",
       "      <th>3</th>\n",
       "      <td>95</td>\n",
       "      <td>2</td>\n",
       "      <td>True</td>\n",
       "      <td>True</td>\n",
       "      <td>True</td>\n",
       "      <td>Shahrake Qods</td>\n",
       "      <td>9.025000e+08</td>\n",
       "      <td>30083.33</td>\n",
       "    </tr>\n",
       "    <tr>\n",
       "      <th>4</th>\n",
       "      <td>123</td>\n",
       "      <td>2</td>\n",
       "      <td>True</td>\n",
       "      <td>True</td>\n",
       "      <td>True</td>\n",
       "      <td>Shahrake Gharb</td>\n",
       "      <td>7.000000e+09</td>\n",
       "      <td>233333.33</td>\n",
       "    </tr>\n",
       "  </tbody>\n",
       "</table>\n",
       "</div>"
      ],
      "text/plain": [
       "  Area  Room  Parking  Warehouse  Elevator         Address         Price  \\\n",
       "0   63     1     True       True      True         Shahran  1.850000e+09   \n",
       "1   60     1     True       True      True         Shahran  1.850000e+09   \n",
       "2   79     2     True       True      True          Pardis  5.500000e+08   \n",
       "3   95     2     True       True      True   Shahrake Qods  9.025000e+08   \n",
       "4  123     2     True       True      True  Shahrake Gharb  7.000000e+09   \n",
       "\n",
       "   Price(USD)  \n",
       "0    61666.67  \n",
       "1    61666.67  \n",
       "2    18333.33  \n",
       "3    30083.33  \n",
       "4   233333.33  "
      ]
     },
     "execution_count": 423,
     "metadata": {},
     "output_type": "execute_result"
    }
   ],
   "source": [
    "df.head(5)"
   ]
  },
  {
   "cell_type": "code",
   "execution_count": 424,
   "id": "0ae3dcd8",
   "metadata": {},
   "outputs": [],
   "source": [
    "df = df.drop(\"Price\", axis = 1)"
   ]
  },
  {
   "cell_type": "code",
   "execution_count": 425,
   "id": "1010e36d",
   "metadata": {},
   "outputs": [
    {
     "name": "stdout",
     "output_type": "stream",
     "text": [
      "<class 'pandas.core.frame.DataFrame'>\n",
      "RangeIndex: 3479 entries, 0 to 3478\n",
      "Data columns (total 7 columns):\n",
      " #   Column      Non-Null Count  Dtype  \n",
      "---  ------      --------------  -----  \n",
      " 0   Area        3479 non-null   object \n",
      " 1   Room        3479 non-null   int64  \n",
      " 2   Parking     3479 non-null   bool   \n",
      " 3   Warehouse   3479 non-null   bool   \n",
      " 4   Elevator    3479 non-null   bool   \n",
      " 5   Address     3456 non-null   object \n",
      " 6   Price(USD)  3479 non-null   float64\n",
      "dtypes: bool(3), float64(1), int64(1), object(2)\n",
      "memory usage: 119.0+ KB\n"
     ]
    }
   ],
   "source": [
    "df.info()"
   ]
  },
  {
   "cell_type": "code",
   "execution_count": 426,
   "id": "dd867b45",
   "metadata": {},
   "outputs": [],
   "source": [
    "df['Area'] = pd.to_numeric(df['Area'], errors='coerce')\n"
   ]
  },
  {
   "cell_type": "code",
   "execution_count": 427,
   "id": "29cd3bbd",
   "metadata": {},
   "outputs": [
    {
     "data": {
      "text/plain": [
       "Area           6\n",
       "Room           0\n",
       "Parking        0\n",
       "Warehouse      0\n",
       "Elevator       0\n",
       "Address       23\n",
       "Price(USD)     0\n",
       "dtype: int64"
      ]
     },
     "execution_count": 427,
     "metadata": {},
     "output_type": "execute_result"
    }
   ],
   "source": [
    "df.isnull().sum()"
   ]
  },
  {
   "cell_type": "markdown",
   "id": "71d5e46b",
   "metadata": {},
   "source": [
    "The number of nulls is much less than 5% of the data, so it is best to delete those rows, as it has little negative impact on the model and the data becomes cleaner."
   ]
  },
  {
   "cell_type": "code",
   "execution_count": 428,
   "id": "b965e62d",
   "metadata": {},
   "outputs": [],
   "source": [
    "df = df.dropna()"
   ]
  },
  {
   "cell_type": "code",
   "execution_count": 429,
   "id": "bb1a5d03",
   "metadata": {},
   "outputs": [
    {
     "data": {
      "text/html": [
       "<div>\n",
       "<style scoped>\n",
       "    .dataframe tbody tr th:only-of-type {\n",
       "        vertical-align: middle;\n",
       "    }\n",
       "\n",
       "    .dataframe tbody tr th {\n",
       "        vertical-align: top;\n",
       "    }\n",
       "\n",
       "    .dataframe thead th {\n",
       "        text-align: right;\n",
       "    }\n",
       "</style>\n",
       "<table border=\"1\" class=\"dataframe\">\n",
       "  <thead>\n",
       "    <tr style=\"text-align: right;\">\n",
       "      <th></th>\n",
       "      <th>count</th>\n",
       "      <th>mean</th>\n",
       "      <th>std</th>\n",
       "      <th>min</th>\n",
       "      <th>25%</th>\n",
       "      <th>50%</th>\n",
       "      <th>75%</th>\n",
       "      <th>max</th>\n",
       "    </tr>\n",
       "  </thead>\n",
       "  <tbody>\n",
       "    <tr>\n",
       "      <th>Area</th>\n",
       "      <td>3450.0</td>\n",
       "      <td>106.917391</td>\n",
       "      <td>69.550976</td>\n",
       "      <td>30.0</td>\n",
       "      <td>69.0000</td>\n",
       "      <td>90.00</td>\n",
       "      <td>120.0</td>\n",
       "      <td>929.0</td>\n",
       "    </tr>\n",
       "    <tr>\n",
       "      <th>Room</th>\n",
       "      <td>3450.0</td>\n",
       "      <td>2.081159</td>\n",
       "      <td>0.760216</td>\n",
       "      <td>0.0</td>\n",
       "      <td>2.0000</td>\n",
       "      <td>2.00</td>\n",
       "      <td>2.0</td>\n",
       "      <td>5.0</td>\n",
       "    </tr>\n",
       "    <tr>\n",
       "      <th>Price(USD)</th>\n",
       "      <td>3450.0</td>\n",
       "      <td>179185.420345</td>\n",
       "      <td>270863.932158</td>\n",
       "      <td>120.0</td>\n",
       "      <td>47308.3325</td>\n",
       "      <td>96666.67</td>\n",
       "      <td>200000.0</td>\n",
       "      <td>3080000.0</td>\n",
       "    </tr>\n",
       "  </tbody>\n",
       "</table>\n",
       "</div>"
      ],
      "text/plain": [
       "             count           mean            std    min         25%       50%  \\\n",
       "Area        3450.0     106.917391      69.550976   30.0     69.0000     90.00   \n",
       "Room        3450.0       2.081159       0.760216    0.0      2.0000      2.00   \n",
       "Price(USD)  3450.0  179185.420345  270863.932158  120.0  47308.3325  96666.67   \n",
       "\n",
       "                 75%        max  \n",
       "Area           120.0      929.0  \n",
       "Room             2.0        5.0  \n",
       "Price(USD)  200000.0  3080000.0  "
      ]
     },
     "execution_count": 429,
     "metadata": {},
     "output_type": "execute_result"
    }
   ],
   "source": [
    "df.describe().T"
   ]
  },
  {
   "cell_type": "code",
   "execution_count": 430,
   "id": "29d0f543",
   "metadata": {},
   "outputs": [
    {
     "data": {
      "text/plain": [
       "Address\n",
       "Punak                     161\n",
       "Pardis                    146\n",
       "West Ferdows Boulevard    145\n",
       "Gheitarieh                140\n",
       "Shahran                   130\n",
       "                         ... \n",
       "Chardangeh                  1\n",
       "Mehrabad                    1\n",
       "Pakdasht KhatunAbad         1\n",
       "Kazemabad                   1\n",
       "Yakhchiabad                 1\n",
       "Name: count, Length: 192, dtype: int64"
      ]
     },
     "execution_count": 430,
     "metadata": {},
     "output_type": "execute_result"
    }
   ],
   "source": [
    "df['Address'].value_counts()"
   ]
  },
  {
   "cell_type": "code",
   "execution_count": 431,
   "id": "0d8c266f",
   "metadata": {},
   "outputs": [
    {
     "data": {
      "text/html": [
       "<div>\n",
       "<style scoped>\n",
       "    .dataframe tbody tr th:only-of-type {\n",
       "        vertical-align: middle;\n",
       "    }\n",
       "\n",
       "    .dataframe tbody tr th {\n",
       "        vertical-align: top;\n",
       "    }\n",
       "\n",
       "    .dataframe thead th {\n",
       "        text-align: right;\n",
       "    }\n",
       "</style>\n",
       "<table border=\"1\" class=\"dataframe\">\n",
       "  <thead>\n",
       "    <tr style=\"text-align: right;\">\n",
       "      <th></th>\n",
       "      <th>Area</th>\n",
       "      <th>Room</th>\n",
       "      <th>Parking</th>\n",
       "      <th>Warehouse</th>\n",
       "      <th>Elevator</th>\n",
       "      <th>Address</th>\n",
       "      <th>Price(USD)</th>\n",
       "      <th>Avg_Price_By_address</th>\n",
       "    </tr>\n",
       "  </thead>\n",
       "  <tbody>\n",
       "    <tr>\n",
       "      <th>1525</th>\n",
       "      <td>91.0</td>\n",
       "      <td>2</td>\n",
       "      <td>True</td>\n",
       "      <td>True</td>\n",
       "      <td>True</td>\n",
       "      <td>Shahran</td>\n",
       "      <td>111666.67</td>\n",
       "      <td>99525.128692</td>\n",
       "    </tr>\n",
       "    <tr>\n",
       "      <th>1466</th>\n",
       "      <td>56.0</td>\n",
       "      <td>1</td>\n",
       "      <td>True</td>\n",
       "      <td>True</td>\n",
       "      <td>True</td>\n",
       "      <td>Punak</td>\n",
       "      <td>95000.00</td>\n",
       "      <td>124276.811615</td>\n",
       "    </tr>\n",
       "    <tr>\n",
       "      <th>2465</th>\n",
       "      <td>95.0</td>\n",
       "      <td>2</td>\n",
       "      <td>True</td>\n",
       "      <td>True</td>\n",
       "      <td>True</td>\n",
       "      <td>Gheitarieh</td>\n",
       "      <td>190000.00</td>\n",
       "      <td>357490.476429</td>\n",
       "    </tr>\n",
       "    <tr>\n",
       "      <th>2023</th>\n",
       "      <td>100.0</td>\n",
       "      <td>2</td>\n",
       "      <td>True</td>\n",
       "      <td>True</td>\n",
       "      <td>True</td>\n",
       "      <td>Saadat Abad</td>\n",
       "      <td>246666.67</td>\n",
       "      <td>316291.989535</td>\n",
       "    </tr>\n",
       "    <tr>\n",
       "      <th>3102</th>\n",
       "      <td>115.0</td>\n",
       "      <td>2</td>\n",
       "      <td>True</td>\n",
       "      <td>True</td>\n",
       "      <td>True</td>\n",
       "      <td>Central Janatabad</td>\n",
       "      <td>130000.00</td>\n",
       "      <td>116287.036778</td>\n",
       "    </tr>\n",
       "    <tr>\n",
       "      <th>48</th>\n",
       "      <td>110.0</td>\n",
       "      <td>2</td>\n",
       "      <td>True</td>\n",
       "      <td>True</td>\n",
       "      <td>True</td>\n",
       "      <td>Ray</td>\n",
       "      <td>67833.33</td>\n",
       "      <td>60218.517778</td>\n",
       "    </tr>\n",
       "    <tr>\n",
       "      <th>492</th>\n",
       "      <td>101.0</td>\n",
       "      <td>2</td>\n",
       "      <td>True</td>\n",
       "      <td>False</td>\n",
       "      <td>True</td>\n",
       "      <td>Pirouzi</td>\n",
       "      <td>104333.33</td>\n",
       "      <td>72499.999683</td>\n",
       "    </tr>\n",
       "    <tr>\n",
       "      <th>3463</th>\n",
       "      <td>133.0</td>\n",
       "      <td>3</td>\n",
       "      <td>True</td>\n",
       "      <td>False</td>\n",
       "      <td>True</td>\n",
       "      <td>Shahrake Gharb</td>\n",
       "      <td>333333.33</td>\n",
       "      <td>398996.045085</td>\n",
       "    </tr>\n",
       "  </tbody>\n",
       "</table>\n",
       "</div>"
      ],
      "text/plain": [
       "       Area  Room  Parking  Warehouse  Elevator            Address  \\\n",
       "1525   91.0     2     True       True      True            Shahran   \n",
       "1466   56.0     1     True       True      True              Punak   \n",
       "2465   95.0     2     True       True      True         Gheitarieh   \n",
       "2023  100.0     2     True       True      True        Saadat Abad   \n",
       "3102  115.0     2     True       True      True  Central Janatabad   \n",
       "48    110.0     2     True       True      True                Ray   \n",
       "492   101.0     2     True      False      True            Pirouzi   \n",
       "3463  133.0     3     True      False      True     Shahrake Gharb   \n",
       "\n",
       "      Price(USD)  Avg_Price_By_address  \n",
       "1525   111666.67          99525.128692  \n",
       "1466    95000.00         124276.811615  \n",
       "2465   190000.00         357490.476429  \n",
       "2023   246666.67         316291.989535  \n",
       "3102   130000.00         116287.036778  \n",
       "48      67833.33          60218.517778  \n",
       "492    104333.33          72499.999683  \n",
       "3463   333333.33         398996.045085  "
      ]
     },
     "execution_count": 431,
     "metadata": {},
     "output_type": "execute_result"
    }
   ],
   "source": [
    "df['Avg_Price_By_address'] = df.groupby('Address')['Price(USD)'].transform('mean')\n",
    "df.sample(8)"
   ]
  },
  {
   "cell_type": "code",
   "execution_count": 432,
   "id": "413e6ccb",
   "metadata": {},
   "outputs": [
    {
     "data": {
      "text/plain": [
       "'cols = [\\'Area\\',\\'Room\\',\\'Price(USD)\\']\\n\\n# آمار قبل از clip\\nprint(\"آمار قبل از محدودسازی:\")\\nprint(df[cols].describe())\\n\\n# اعمال clip\\nfor col in cols:\\n    df[col] = df[col].clip(lower=Lower_bound[col], upper=Upper_bound[col])\\n\\n# آمار بعد از clip\\nprint(\"\\nآمار بعد از محدودسازی:\")\\nprint(df[cols].describe())'"
      ]
     },
     "execution_count": 432,
     "metadata": {},
     "output_type": "execute_result"
    }
   ],
   "source": [
    "'''cols = ['Area','Room','Price(USD)']\n",
    "\n",
    "# آمار قبل از clip\n",
    "print(\"آمار قبل از محدودسازی:\")\n",
    "print(df[cols].describe())\n",
    "\n",
    "# اعمال clip\n",
    "for col in cols:\n",
    "    df[col] = df[col].clip(lower=Lower_bound[col], upper=Upper_bound[col])\n",
    "\n",
    "# آمار بعد از clip\n",
    "print(\"\\nآمار بعد از محدودسازی:\")\n",
    "print(df[cols].describe())'''\n"
   ]
  },
  {
   "cell_type": "code",
   "execution_count": 433,
   "id": "52c23fdb",
   "metadata": {},
   "outputs": [
    {
     "data": {
      "text/plain": [
       "\"cols = ['Area','Room','Price(USD)']\\n\\nQ1 = df[cols].quantile(0.25)\\nQ3 = df[cols].quantile(0.75)\\nIQR = Q3 - Q1\\n\\nLower_bound = Q1 - 1.5 * IQR\\nUpper_bound = Q3 + 1.5 * IQR\\n\\n\\nfor col in cols:\\n    df[col] = df[col].clip(lower=Lower_bound[col], upper=Upper_bound[col])\""
      ]
     },
     "execution_count": 433,
     "metadata": {},
     "output_type": "execute_result"
    }
   ],
   "source": [
    "'''cols = ['Area','Room','Price(USD)']\n",
    "\n",
    "Q1 = df[cols].quantile(0.25)\n",
    "Q3 = df[cols].quantile(0.75)\n",
    "IQR = Q3 - Q1\n",
    "\n",
    "Lower_bound = Q1 - 1.5 * IQR\n",
    "Upper_bound = Q3 + 1.5 * IQR\n",
    "\n",
    "\n",
    "for col in cols:\n",
    "    df[col] = df[col].clip(lower=Lower_bound[col], upper=Upper_bound[col])'''\n"
   ]
  },
  {
   "cell_type": "code",
   "execution_count": 434,
   "id": "05d3a9ea",
   "metadata": {},
   "outputs": [
    {
     "data": {
      "image/png": "[encoded data removed]",
      "text/plain": [
       "<Figure size 2000x2000 with 4 Axes>"
      ]
     },
     "metadata": {},
     "output_type": "display_data"
    }
   ],
   "source": [
    "numerical_cols = df.select_dtypes(include=['int64', 'float64']).columns\n",
    "\n",
    "# Define color palette\n",
    "palette = sns.color_palette(\"husl\")\n",
    "\n",
    "#to show Outliers in data \n",
    "plt.figure(figsize=(20, 20))\n",
    "for i, col in enumerate(numerical_cols, 1):\n",
    "    plt.subplot(3,3, i)\n",
    "    sns.boxplot(y=df[col], color=palette[i])\n",
    "    plt.title(f'Boxplot of {col}')\n",
    "plt.tight_layout()\n",
    "plt.show()"
   ]
  }
 ],
 "metadata": {
  "kernelspec": {
   "display_name": "base",
   "language": "python",
   "name": "python3"
  },
  "language_info": {
   "codemirror_mode": {
    "name": "ipython",
    "version": 3
   },
   "file_extension": ".py",
   "mimetype": "text/x-python",
   "name": "python",
   "nbconvert_exporter": "python",
   "pygments_lexer": "ipython3",
   "version": "3.12.7"
  }
 },
 "nbformat": 4,
 "nbformat_minor": 5
}
